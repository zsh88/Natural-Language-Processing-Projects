{
  "nbformat": 4,
  "nbformat_minor": 0,
  "metadata": {
    "colab": {
      "provenance": []
    },
    "kernelspec": {
      "name": "python3",
      "display_name": "Python 3"
    },
    "language_info": {
      "name": "python"
    }
  },
  "cells": [
    {
      "cell_type": "code",
      "execution_count": 8,
      "metadata": {
        "colab": {
          "base_uri": "https://localhost:8080/"
        },
        "id": "2ZhzVz811AIA",
        "outputId": "6406a0cd-135d-4140-a59a-b4028ba99031"
      },
      "outputs": [
        {
          "output_type": "stream",
          "name": "stderr",
          "text": [
            "[nltk_data] Downloading package stopwords to /root/nltk_data...\n",
            "[nltk_data]   Package stopwords is already up-to-date!\n",
            "[nltk_data] Downloading package punkt to /root/nltk_data...\n",
            "[nltk_data]   Unzipping tokenizers/punkt.zip.\n"
          ]
        }
      ],
      "source": [
        "import nltk\n",
        "nltk.download('stopwords')\n",
        "nltk.download('punkt')\n",
        "import string\n",
        "from heapq import nlargest"
      ]
    },
    {
      "cell_type": "code",
      "source": [
        "text = \"What is artificial intelligence? If you hear the term artificial intelligence (AI), you might think of self-driving cars, robots, ChatGPT, other AI chatbots, and artificially created images. But it's also important to look behind the outputs of AI and understand how the technology works and its impacts on this and future generations. AI is a concept that has been around formally since the 1950s when it was defined as a machine's ability to perform a task that would've previously required human intelligence. This is quite a broad definition that has been modified over decades of research and technological advancements. When you consider assigning intelligence to a machine, such as a computer, it makes sense to start by defining the term 'intelligence' -- especially when you want to determine if an artificial system truly deserves it.\"\n",
        "\n",
        "#Determining Summary Length\n",
        "if text.count(\". \") > 20:\n",
        "    length = int(round(text.count(\". \")/10, 0))\n",
        "else:\n",
        "    length = 1\n",
        "\n",
        "#Preprocessing\n",
        "nopuch =[char for char in text if char not in string.punctuation]\n",
        "nopuch = \"\".join(nopuch)\n",
        "\n",
        "processed_text = [word for word in nopuch.split() if word.lower() not in nltk.corpus.stopwords.words('english')]\n",
        "\n",
        "#Word Frequency Calculation\n",
        "word_freq = {}\n",
        "for word in processed_text:\n",
        "    if word not in word_freq:\n",
        "        word_freq[word] = 1\n",
        "    else:\n",
        "        word_freq[word] = word_freq[word] + 1\n",
        "\n",
        "#Normalizing Word Frequencies\n",
        "max_freq = max(word_freq.values())\n",
        "for word in word_freq.keys():\n",
        "    word_freq[word] = (word_freq[word]/max_freq)\n",
        "\n",
        "#Sentence Tokenization\n",
        "sent_list = nltk.sent_tokenize(text)\n",
        "\n",
        "#Calculating Sentence Scores\n",
        "sent_score = {}\n",
        "for sent in sent_list:\n",
        "    for word in nltk.word_tokenize(sent.lower()):\n",
        "        if word in word_freq.keys():\n",
        "            if sent not in sent_score.keys():\n",
        "                sent_score[sent] = word_freq[word]\n",
        "            else:\n",
        "                sent_score[sent] = sent_score[sent] + word_freq[word]\n",
        "\n",
        "#Selecting Top Sentences\n",
        "summary_sents = nlargest(length, sent_score, key=sent_score.get)\n",
        "\n",
        "#Generating Summary\n",
        "summary = \" \".join(summary_sents)\n",
        "print(summary)"
      ],
      "metadata": {
        "colab": {
          "base_uri": "https://localhost:8080/"
        },
        "id": "aNcsYlnA1PdL",
        "outputId": "ffafdcdc-efe5-4f17-ce7d-5c131ae3b9f1"
      },
      "execution_count": 9,
      "outputs": [
        {
          "output_type": "stream",
          "name": "stdout",
          "text": [
            "When you consider assigning intelligence to a machine, such as a computer, it makes sense to start by defining the term 'intelligence' -- especially when you want to determine if an artificial system truly deserves it.\n"
          ]
        }
      ]
    },
    {
      "cell_type": "code",
      "source": [],
      "metadata": {
        "id": "pKT7W58F8Bun"
      },
      "execution_count": 3,
      "outputs": []
    }
  ]
}